import pandas as pd
from sklearn.model_selection import train_test_split
from sklearn.ensemble import RandomForestClassifier
from sklearn.metrics import classification_report

# Load dataset
df = pd.read_csv("health_data.csv")

# Features & target
X = df[['temperature', 'humidity', 'heart_rate']]
y = df['condition']

# Train-test split
X_train, X_test, y_train, y_test = train_test_split(X, y, test_size=0.2, random_state=42)

# Train model
model = RandomForestClassifier(n_estimators=100, random_state=42)
model.fit(X_train, y_train)

# Predictions
y_pred = model.predict(X_test)

# Results
print(classification_report(y_test, y_pred))

# Save model
import joblib
joblib.dump(model, "health_model.pkl")

print("✅ Model trained & saved as health_model.pkl")
